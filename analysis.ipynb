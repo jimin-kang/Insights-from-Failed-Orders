{
 "cells": [
  {
   "cell_type": "markdown",
   "metadata": {},
   "source": [
    "**Insights from Failed Orders**\n",
    "\n",
    "In this notebook, we'll analyze some order data from the Ground Transportation Manager platform, Gett. \n",
    "\n",
    "The full project description can be found here: \n",
    "- https://platform.stratascratch.com/data-projects/insights-failed-orders\n",
    "\n",
    "We will investigate the following questions:\n",
    "1. Build up distribution of orders according to reasons for failure: cancellations before and after driver assignment, and reasons for order rejection. Analyse the resulting plot. Which category has the highest number of orders?\n",
    "2. Plot the distribution of failed orders by hours. Is there a trend that certain hours have an abnormally high proportion of one category or another? What hours are the biggest fails? How can this be explained?\n",
    "3. Plot the average time to cancellation with and without driver, by the hour. If there are any outliers in the data, it would be better to remove them. Can we draw any conclusions from this plot?\n",
    "4. Plot the distribution of average ETA by hours. How can this plot be explained?\n",
    "5. BONUS Hexagons. Using the h3 and folium packages, calculate how many sizes 8 hexes contain 80% of all orders from the original data sets and visualise the hexes, colouring them by the number of fails on the map."
   ]
  },
  {
   "cell_type": "code",
   "execution_count": 126,
   "metadata": {},
   "outputs": [],
   "source": [
    "import pandas as pd\n",
    "import numpy as np\n",
    "import matplotlib.pyplot as plt\n",
    "import seaborn as sns"
   ]
  },
  {
   "cell_type": "code",
   "execution_count": 127,
   "metadata": {},
   "outputs": [],
   "source": [
    "offers_df = pd.read_csv('datasets\\data_offers.csv')\n",
    "orders_df = pd.read_csv('datasets\\data_orders.csv')"
   ]
  },
  {
   "cell_type": "markdown",
   "metadata": {},
   "source": [
    "Doesn't look like offers_df contains any data relevant for the analysis - not quite sure what offer_id is."
   ]
  },
  {
   "cell_type": "code",
   "execution_count": 128,
   "metadata": {},
   "outputs": [
    {
     "data": {
      "text/html": [
       "<div>\n",
       "<style scoped>\n",
       "    .dataframe tbody tr th:only-of-type {\n",
       "        vertical-align: middle;\n",
       "    }\n",
       "\n",
       "    .dataframe tbody tr th {\n",
       "        vertical-align: top;\n",
       "    }\n",
       "\n",
       "    .dataframe thead th {\n",
       "        text-align: right;\n",
       "    }\n",
       "</style>\n",
       "<table border=\"1\" class=\"dataframe\">\n",
       "  <thead>\n",
       "    <tr style=\"text-align: right;\">\n",
       "      <th></th>\n",
       "      <th>order_gk</th>\n",
       "      <th>offer_id</th>\n",
       "    </tr>\n",
       "  </thead>\n",
       "  <tbody>\n",
       "    <tr>\n",
       "      <th>0</th>\n",
       "      <td>3000579625629</td>\n",
       "      <td>300050936206</td>\n",
       "    </tr>\n",
       "    <tr>\n",
       "      <th>1</th>\n",
       "      <td>3000627306450</td>\n",
       "      <td>300052064651</td>\n",
       "    </tr>\n",
       "    <tr>\n",
       "      <th>2</th>\n",
       "      <td>3000632920686</td>\n",
       "      <td>300052408812</td>\n",
       "    </tr>\n",
       "    <tr>\n",
       "      <th>3</th>\n",
       "      <td>3000632771725</td>\n",
       "      <td>300052393030</td>\n",
       "    </tr>\n",
       "    <tr>\n",
       "      <th>4</th>\n",
       "      <td>3000583467642</td>\n",
       "      <td>300051001196</td>\n",
       "    </tr>\n",
       "  </tbody>\n",
       "</table>\n",
       "</div>"
      ],
      "text/plain": [
       "        order_gk      offer_id\n",
       "0  3000579625629  300050936206\n",
       "1  3000627306450  300052064651\n",
       "2  3000632920686  300052408812\n",
       "3  3000632771725  300052393030\n",
       "4  3000583467642  300051001196"
      ]
     },
     "execution_count": 128,
     "metadata": {},
     "output_type": "execute_result"
    }
   ],
   "source": [
    "offers_df.head()"
   ]
  },
  {
   "cell_type": "code",
   "execution_count": 129,
   "metadata": {},
   "outputs": [
    {
     "data": {
      "text/html": [
       "<div>\n",
       "<style scoped>\n",
       "    .dataframe tbody tr th:only-of-type {\n",
       "        vertical-align: middle;\n",
       "    }\n",
       "\n",
       "    .dataframe tbody tr th {\n",
       "        vertical-align: top;\n",
       "    }\n",
       "\n",
       "    .dataframe thead th {\n",
       "        text-align: right;\n",
       "    }\n",
       "</style>\n",
       "<table border=\"1\" class=\"dataframe\">\n",
       "  <thead>\n",
       "    <tr style=\"text-align: right;\">\n",
       "      <th></th>\n",
       "      <th>order_datetime</th>\n",
       "      <th>origin_longitude</th>\n",
       "      <th>origin_latitude</th>\n",
       "      <th>m_order_eta</th>\n",
       "      <th>order_gk</th>\n",
       "      <th>order_status_key</th>\n",
       "      <th>is_driver_assigned_key</th>\n",
       "      <th>cancellations_time_in_seconds</th>\n",
       "    </tr>\n",
       "  </thead>\n",
       "  <tbody>\n",
       "    <tr>\n",
       "      <th>0</th>\n",
       "      <td>18:08:07</td>\n",
       "      <td>-0.978916</td>\n",
       "      <td>51.456173</td>\n",
       "      <td>60.0</td>\n",
       "      <td>3000583041974</td>\n",
       "      <td>4</td>\n",
       "      <td>1</td>\n",
       "      <td>198.0</td>\n",
       "    </tr>\n",
       "    <tr>\n",
       "      <th>1</th>\n",
       "      <td>20:57:32</td>\n",
       "      <td>-0.950385</td>\n",
       "      <td>51.456843</td>\n",
       "      <td>NaN</td>\n",
       "      <td>3000583116437</td>\n",
       "      <td>4</td>\n",
       "      <td>0</td>\n",
       "      <td>128.0</td>\n",
       "    </tr>\n",
       "    <tr>\n",
       "      <th>2</th>\n",
       "      <td>12:07:50</td>\n",
       "      <td>-0.969520</td>\n",
       "      <td>51.455544</td>\n",
       "      <td>477.0</td>\n",
       "      <td>3000582891479</td>\n",
       "      <td>4</td>\n",
       "      <td>1</td>\n",
       "      <td>46.0</td>\n",
       "    </tr>\n",
       "    <tr>\n",
       "      <th>3</th>\n",
       "      <td>13:50:20</td>\n",
       "      <td>-1.054671</td>\n",
       "      <td>51.460544</td>\n",
       "      <td>658.0</td>\n",
       "      <td>3000582941169</td>\n",
       "      <td>4</td>\n",
       "      <td>1</td>\n",
       "      <td>62.0</td>\n",
       "    </tr>\n",
       "    <tr>\n",
       "      <th>4</th>\n",
       "      <td>21:24:45</td>\n",
       "      <td>-0.967605</td>\n",
       "      <td>51.458236</td>\n",
       "      <td>NaN</td>\n",
       "      <td>3000583140877</td>\n",
       "      <td>9</td>\n",
       "      <td>0</td>\n",
       "      <td>NaN</td>\n",
       "    </tr>\n",
       "  </tbody>\n",
       "</table>\n",
       "</div>"
      ],
      "text/plain": [
       "  order_datetime  origin_longitude  origin_latitude  m_order_eta  \\\n",
       "0       18:08:07         -0.978916        51.456173         60.0   \n",
       "1       20:57:32         -0.950385        51.456843          NaN   \n",
       "2       12:07:50         -0.969520        51.455544        477.0   \n",
       "3       13:50:20         -1.054671        51.460544        658.0   \n",
       "4       21:24:45         -0.967605        51.458236          NaN   \n",
       "\n",
       "        order_gk  order_status_key  is_driver_assigned_key  \\\n",
       "0  3000583041974                 4                       1   \n",
       "1  3000583116437                 4                       0   \n",
       "2  3000582891479                 4                       1   \n",
       "3  3000582941169                 4                       1   \n",
       "4  3000583140877                 9                       0   \n",
       "\n",
       "   cancellations_time_in_seconds  \n",
       "0                          198.0  \n",
       "1                          128.0  \n",
       "2                           46.0  \n",
       "3                           62.0  \n",
       "4                            NaN  "
      ]
     },
     "execution_count": 129,
     "metadata": {},
     "output_type": "execute_result"
    }
   ],
   "source": [
    "orders_df.head()"
   ]
  },
  {
   "cell_type": "code",
   "execution_count": 130,
   "metadata": {},
   "outputs": [
    {
     "name": "stdout",
     "output_type": "stream",
     "text": [
      "<class 'pandas.core.frame.DataFrame'>\n",
      "RangeIndex: 10716 entries, 0 to 10715\n",
      "Data columns (total 8 columns):\n",
      " #   Column                         Non-Null Count  Dtype  \n",
      "---  ------                         --------------  -----  \n",
      " 0   order_datetime                 10716 non-null  object \n",
      " 1   origin_longitude               10716 non-null  float64\n",
      " 2   origin_latitude                10716 non-null  float64\n",
      " 3   m_order_eta                    2814 non-null   float64\n",
      " 4   order_gk                       10716 non-null  int64  \n",
      " 5   order_status_key               10716 non-null  int64  \n",
      " 6   is_driver_assigned_key         10716 non-null  int64  \n",
      " 7   cancellations_time_in_seconds  7307 non-null   float64\n",
      "dtypes: float64(4), int64(3), object(1)\n",
      "memory usage: 669.9+ KB\n"
     ]
    }
   ],
   "source": [
    "orders_df.info()"
   ]
  },
  {
   "cell_type": "code",
   "execution_count": 131,
   "metadata": {},
   "outputs": [
    {
     "name": "stdout",
     "output_type": "stream",
     "text": [
      "<class 'pandas.core.frame.DataFrame'>\n",
      "RangeIndex: 334363 entries, 0 to 334362\n",
      "Data columns (total 2 columns):\n",
      " #   Column    Non-Null Count   Dtype\n",
      "---  ------    --------------   -----\n",
      " 0   order_gk  334363 non-null  int64\n",
      " 1   offer_id  334363 non-null  int64\n",
      "dtypes: int64(2)\n",
      "memory usage: 5.1 MB\n"
     ]
    }
   ],
   "source": [
    "offers_df.info()"
   ]
  },
  {
   "cell_type": "code",
   "execution_count": 132,
   "metadata": {},
   "outputs": [],
   "source": [
    "# combined_df = pd.merge(left=orders_df, right=offers_df, how='left', on='order_gk')\n",
    "# combined_df.head()"
   ]
  },
  {
   "cell_type": "code",
   "execution_count": 133,
   "metadata": {},
   "outputs": [
    {
     "data": {
      "text/plain": [
       "order_status_key\n",
       "4    7307\n",
       "9    3409\n",
       "Name: count, dtype: int64"
      ]
     },
     "execution_count": 133,
     "metadata": {},
     "output_type": "execute_result"
    }
   ],
   "source": [
    "orders_df['order_status_key'].value_counts()"
   ]
  },
  {
   "cell_type": "code",
   "execution_count": 134,
   "metadata": {},
   "outputs": [
    {
     "name": "stdout",
     "output_type": "stream",
     "text": [
      "<class 'pandas.core.frame.DataFrame'>\n",
      "RangeIndex: 10716 entries, 0 to 10715\n",
      "Data columns (total 8 columns):\n",
      " #   Column                         Non-Null Count  Dtype  \n",
      "---  ------                         --------------  -----  \n",
      " 0   order_datetime                 10716 non-null  object \n",
      " 1   origin_longitude               10716 non-null  float64\n",
      " 2   origin_latitude                10716 non-null  float64\n",
      " 3   m_order_eta                    2814 non-null   float64\n",
      " 4   order_gk                       10716 non-null  int64  \n",
      " 5   order_status_key               10716 non-null  int64  \n",
      " 6   is_driver_assigned_key         10716 non-null  int64  \n",
      " 7   cancellations_time_in_seconds  7307 non-null   float64\n",
      "dtypes: float64(4), int64(3), object(1)\n",
      "memory usage: 669.9+ KB\n"
     ]
    }
   ],
   "source": [
    "orders_df.info()"
   ]
  },
  {
   "cell_type": "code",
   "execution_count": 135,
   "metadata": {},
   "outputs": [],
   "source": [
    "order_status_map = {\n",
    "    4: 'Client Cancelled',\n",
    "    9: 'System Cancelled'\n",
    "}\n",
    "\n",
    "orders_df['order_status'] = orders_df['order_status_key'].map(order_status_map)\n",
    "\n",
    "is_driver_assigned_map = {\n",
    "    0: 'No',\n",
    "    1: 'Yes'\n",
    "}\n",
    "\n",
    "orders_df['is_driver_assigned'] = orders_df['is_driver_assigned_key'].map(is_driver_assigned_map)"
   ]
  },
  {
   "cell_type": "code",
   "execution_count": 136,
   "metadata": {},
   "outputs": [
    {
     "data": {
      "text/plain": [
       "order_status\n",
       "Client Cancelled    7307\n",
       "System Cancelled    3409\n",
       "Name: count, dtype: int64"
      ]
     },
     "execution_count": 136,
     "metadata": {},
     "output_type": "execute_result"
    }
   ],
   "source": [
    "orders_df['order_status'].value_counts(dropna=False)"
   ]
  },
  {
   "cell_type": "code",
   "execution_count": 137,
   "metadata": {},
   "outputs": [
    {
     "data": {
      "text/plain": [
       "is_driver_assigned\n",
       "No     7902\n",
       "Yes    2814\n",
       "Name: count, dtype: int64"
      ]
     },
     "execution_count": 137,
     "metadata": {},
     "output_type": "execute_result"
    }
   ],
   "source": [
    "orders_df['is_driver_assigned'].value_counts(dropna=False)"
   ]
  },
  {
   "cell_type": "markdown",
   "metadata": {},
   "source": [
    "**Question 1**\n",
    "\n",
    "Build up distribution of orders according to reasons for failure: cancellations before and after driver assignment, and reasons for order rejection. Analyse the resulting plot. Which category has the highest number of orders?"
   ]
  },
  {
   "cell_type": "markdown",
   "metadata": {},
   "source": [
    "First, let's break down orders by driver assignment status.\n",
    "\n",
    "Then, for each driver assignment status, we'll examine the breakdown of orders cancelled by client/system.\n",
    "\n",
    "Relevant columns to look at:\n",
    "- order_status_key - indicates whether order cancelled by client (4) or system (9)\n",
    "- is_driver_assigned_key - indicates whether a driver has been assigned (0/1)"
   ]
  },
  {
   "cell_type": "code",
   "execution_count": 138,
   "metadata": {},
   "outputs": [
    {
     "data": {
      "text/html": [
       "<div>\n",
       "<style scoped>\n",
       "    .dataframe tbody tr th:only-of-type {\n",
       "        vertical-align: middle;\n",
       "    }\n",
       "\n",
       "    .dataframe tbody tr th {\n",
       "        vertical-align: top;\n",
       "    }\n",
       "\n",
       "    .dataframe thead th {\n",
       "        text-align: right;\n",
       "    }\n",
       "</style>\n",
       "<table border=\"1\" class=\"dataframe\">\n",
       "  <thead>\n",
       "    <tr style=\"text-align: right;\">\n",
       "      <th></th>\n",
       "      <th>Driver Assigned?</th>\n",
       "      <th>Proportion</th>\n",
       "    </tr>\n",
       "  </thead>\n",
       "  <tbody>\n",
       "    <tr>\n",
       "      <th>0</th>\n",
       "      <td>No</td>\n",
       "      <td>0.737402</td>\n",
       "    </tr>\n",
       "    <tr>\n",
       "      <th>1</th>\n",
       "      <td>Yes</td>\n",
       "      <td>0.262598</td>\n",
       "    </tr>\n",
       "  </tbody>\n",
       "</table>\n",
       "</div>"
      ],
      "text/plain": [
       "  Driver Assigned?  Proportion\n",
       "0               No    0.737402\n",
       "1              Yes    0.262598"
      ]
     },
     "execution_count": 138,
     "metadata": {},
     "output_type": "execute_result"
    }
   ],
   "source": [
    "driver_assignment_proportions = orders_df['is_driver_assigned'].value_counts(normalize=True).reset_index()\n",
    "\n",
    "pd.DataFrame(data=driver_assignment_proportions, index=driver_assignment_proportions.index).rename(columns={'is_driver_assigned': 'Driver Assigned?', 'proportion':'Proportion'})"
   ]
  },
  {
   "cell_type": "markdown",
   "metadata": {},
   "source": [
    "Out of all cancelled orders: \n",
    "- 74% cancelled before driver assigned\n",
    "- 26% cancelled after driver assigned"
   ]
  },
  {
   "cell_type": "code",
   "execution_count": 139,
   "metadata": {},
   "outputs": [],
   "source": [
    "# breakdown by driver assignment status\n",
    "cancelled_before = orders_df[orders_df['is_driver_assigned_key']==0]\n",
    "cancelled_after = orders_df[orders_df['is_driver_assigned_key']==1]\n",
    "\n",
    "# breakdown by cancellation status\n",
    "cancelled_before_reasons = cancelled_before['order_status'].value_counts()\n",
    "cancelled_after_reasons = cancelled_after['order_status'].value_counts()\n",
    "\n",
    "# breakdown by cancellation status, normalized\n",
    "cancelled_before_reasons_normalized = cancelled_before['order_status'].value_counts()*100/len(cancelled_before)\n",
    "cancelled_after_reasons_normalized = cancelled_after['order_status'].value_counts()*100/len(cancelled_after)"
   ]
  },
  {
   "cell_type": "code",
   "execution_count": 140,
   "metadata": {},
   "outputs": [
    {
     "data": {
      "text/html": [
       "<div>\n",
       "<style scoped>\n",
       "    .dataframe tbody tr th:only-of-type {\n",
       "        vertical-align: middle;\n",
       "    }\n",
       "\n",
       "    .dataframe tbody tr th {\n",
       "        vertical-align: top;\n",
       "    }\n",
       "\n",
       "    .dataframe thead th {\n",
       "        text-align: right;\n",
       "    }\n",
       "</style>\n",
       "<table border=\"1\" class=\"dataframe\">\n",
       "  <thead>\n",
       "    <tr style=\"text-align: right;\">\n",
       "      <th></th>\n",
       "      <th>Driver Assigned: Count</th>\n",
       "      <th>None Assigned: Count</th>\n",
       "      <th>Driver Assigned: Percent</th>\n",
       "      <th>None Assigned: Percent</th>\n",
       "    </tr>\n",
       "    <tr>\n",
       "      <th>Order Status</th>\n",
       "      <th></th>\n",
       "      <th></th>\n",
       "      <th></th>\n",
       "      <th></th>\n",
       "    </tr>\n",
       "  </thead>\n",
       "  <tbody>\n",
       "    <tr>\n",
       "      <th>Client Cancelled</th>\n",
       "      <td>4496</td>\n",
       "      <td>2811</td>\n",
       "      <td>56.896988</td>\n",
       "      <td>99.89339</td>\n",
       "    </tr>\n",
       "    <tr>\n",
       "      <th>System Cancelled</th>\n",
       "      <td>3406</td>\n",
       "      <td>3</td>\n",
       "      <td>43.103012</td>\n",
       "      <td>0.10661</td>\n",
       "    </tr>\n",
       "  </tbody>\n",
       "</table>\n",
       "</div>"
      ],
      "text/plain": [
       "                  Driver Assigned: Count  None Assigned: Count  \\\n",
       "Order Status                                                     \n",
       "Client Cancelled                    4496                  2811   \n",
       "System Cancelled                    3406                     3   \n",
       "\n",
       "                  Driver Assigned: Percent  None Assigned: Percent  \n",
       "Order Status                                                        \n",
       "Client Cancelled                 56.896988                99.89339  \n",
       "System Cancelled                 43.103012                 0.10661  "
      ]
     },
     "execution_count": 140,
     "metadata": {},
     "output_type": "execute_result"
    }
   ],
   "source": [
    "cancelled_info_df = pd.DataFrame(\n",
    "    {\n",
    "        'Driver Assigned: Count': cancelled_before_reasons, \n",
    "        'None Assigned: Count': cancelled_after_reasons, \n",
    "        'Driver Assigned: Percent': cancelled_before_reasons_normalized, \n",
    "        'None Assigned: Percent': cancelled_after_reasons_normalized\n",
    "    },\n",
    ")\n",
    "\n",
    "cancelled_info_df.rename_axis('Order Status')"
   ]
  },
  {
   "cell_type": "markdown",
   "metadata": {},
   "source": [
    "Out of all cancelled orders: \n",
    "- 74/26 split for orders cancelled before & after driver assignment, respectively\n",
    "\n",
    "Orders cancelled before driver assigned:\n",
    "- 57/43 split for orders cancelled by client/system, respectively\n",
    "\n",
    "Orders cancelled after driver assigned:\n",
    "- Nearly 100% of orders cancelled by client (2811/2814)\n",
    "\n",
    "So, ~74% of cancelled orders were cancelled prior to driver assignment. Out of those orders, ~57% were cancelled by the client.\n",
    "\n",
    "Additionally, nearly all orders that were cancelled by system (order_status_key = 9) occurred before driver assignment (3406 orders out of 3409). If an order was cancelled after a driver has been assigned, it was almost definitely cancelled by the client (2811 orders out of 2814).\n",
    "\n",
    "https://seaborn.pydata.org/generated/seaborn.countplot.html"
   ]
  },
  {
   "cell_type": "code",
   "execution_count": 141,
   "metadata": {},
   "outputs": [
    {
     "data": {
      "image/png": "[encoded data removed]",
      "text/plain": [
       "<Figure size 640x480 with 1 Axes>"
      ]
     },
     "metadata": {},
     "output_type": "display_data"
    }
   ],
   "source": [
    "ax = sns.countplot(data=orders_df, x=\"order_status\", hue=\"is_driver_assigned\", palette=\"Set2\", stat='percent')\n",
    "plt.title(\"Cancelled Orders by Order Status & Driver Assignment\")\n",
    "plt.xlabel(\"Order Status\")\n",
    "plt.ylabel(\"Percentage of Cancelled Orders\")\n",
    "plt.legend(title=\"Driver Assignment Status\")\n",
    "\n",
    "plt.show()"
   ]
  },
  {
   "cell_type": "code",
   "execution_count": 142,
   "metadata": {},
   "outputs": [
    {
     "data": {
      "image/png": "[encoded data removed]",
      "text/plain": [
       "<Figure size 640x480 with 1 Axes>"
      ]
     },
     "metadata": {},
     "output_type": "display_data"
    }
   ],
   "source": [
    "ax = sns.countplot(data=orders_df, x=\"is_driver_assigned\", hue=\"order_status\", palette=\"Set2\", stat='percent')\n",
    "plt.title(\"Cancelled Orders by Driver Assignment & Order Status\")\n",
    "plt.xlabel(\"Driver Assignment Status\")\n",
    "plt.ylabel(\"Percentage of Cancelled Orders\")\n",
    "plt.legend(title=\"Order Status\")\n",
    "\n",
    "plt.show()"
   ]
  },
  {
   "cell_type": "markdown",
   "metadata": {},
   "source": [
    "**Question 2**\n",
    "\n",
    "Plot the distribution of failed orders by hours. Is there a trend that certain hours have an abnormally high proportion of one category or another? What hours are the biggest fails? How can this be explained?"
   ]
  },
  {
   "cell_type": "markdown",
   "metadata": {},
   "source": [
    "First, let's extract the hour from order_datetime."
   ]
  },
  {
   "cell_type": "code",
   "execution_count": 143,
   "metadata": {},
   "outputs": [
    {
     "data": {
      "text/html": [
       "<div>\n",
       "<style scoped>\n",
       "    .dataframe tbody tr th:only-of-type {\n",
       "        vertical-align: middle;\n",
       "    }\n",
       "\n",
       "    .dataframe tbody tr th {\n",
       "        vertical-align: top;\n",
       "    }\n",
       "\n",
       "    .dataframe thead th {\n",
       "        text-align: right;\n",
       "    }\n",
       "</style>\n",
       "<table border=\"1\" class=\"dataframe\">\n",
       "  <thead>\n",
       "    <tr style=\"text-align: right;\">\n",
       "      <th></th>\n",
       "      <th>order_datetime</th>\n",
       "      <th>hr</th>\n",
       "      <th>min</th>\n",
       "      <th>sec</th>\n",
       "    </tr>\n",
       "  </thead>\n",
       "  <tbody>\n",
       "    <tr>\n",
       "      <th>0</th>\n",
       "      <td>18:08:07</td>\n",
       "      <td>18</td>\n",
       "      <td>08</td>\n",
       "      <td>07</td>\n",
       "    </tr>\n",
       "    <tr>\n",
       "      <th>1</th>\n",
       "      <td>20:57:32</td>\n",
       "      <td>20</td>\n",
       "      <td>57</td>\n",
       "      <td>32</td>\n",
       "    </tr>\n",
       "    <tr>\n",
       "      <th>2</th>\n",
       "      <td>12:07:50</td>\n",
       "      <td>12</td>\n",
       "      <td>07</td>\n",
       "      <td>50</td>\n",
       "    </tr>\n",
       "    <tr>\n",
       "      <th>3</th>\n",
       "      <td>13:50:20</td>\n",
       "      <td>13</td>\n",
       "      <td>50</td>\n",
       "      <td>20</td>\n",
       "    </tr>\n",
       "    <tr>\n",
       "      <th>4</th>\n",
       "      <td>21:24:45</td>\n",
       "      <td>21</td>\n",
       "      <td>24</td>\n",
       "      <td>45</td>\n",
       "    </tr>\n",
       "  </tbody>\n",
       "</table>\n",
       "</div>"
      ],
      "text/plain": [
       "  order_datetime  hr min sec\n",
       "0       18:08:07  18  08  07\n",
       "1       20:57:32  20  57  32\n",
       "2       12:07:50  12  07  50\n",
       "3       13:50:20  13  50  20\n",
       "4       21:24:45  21  24  45"
      ]
     },
     "execution_count": 143,
     "metadata": {},
     "output_type": "execute_result"
    }
   ],
   "source": [
    "time_info = orders_df['order_datetime'].str.split(\":\")\n",
    "\n",
    "orders_df['hr'] = time_info.str[0]\n",
    "orders_df['min'] = time_info.str[1]\n",
    "orders_df['sec'] = time_info.str[2]\n",
    "\n",
    "orders_df[['order_datetime', 'hr', 'min', 'sec']].head()"
   ]
  },
  {
   "cell_type": "markdown",
   "metadata": {},
   "source": [
    "Now, we can plot a breakdown of cancelled orders by hour."
   ]
  },
  {
   "cell_type": "code",
   "execution_count": 144,
   "metadata": {},
   "outputs": [
    {
     "data": {
      "image/png": "[encoded data removed]",
      "text/plain": [
       "<Figure size 640x480 with 1 Axes>"
      ]
     },
     "metadata": {},
     "output_type": "display_data"
    }
   ],
   "source": [
    "sns.countplot(data=orders_df, x=\"hr\", order=sorted(orders_df[\"hr\"].unique()), stat='percent')\n",
    "plt.title(\"Percentage of Cancelled Orders by Hour\")\n",
    "plt.xlabel(\"Hour of Order\")\n",
    "plt.ylabel(\"Percentage of Cancelled Orders\")\n",
    "plt.show()"
   ]
  },
  {
   "cell_type": "code",
   "execution_count": 145,
   "metadata": {},
   "outputs": [
    {
     "data": {
      "text/html": [
       "<div>\n",
       "<style scoped>\n",
       "    .dataframe tbody tr th:only-of-type {\n",
       "        vertical-align: middle;\n",
       "    }\n",
       "\n",
       "    .dataframe tbody tr th {\n",
       "        vertical-align: top;\n",
       "    }\n",
       "\n",
       "    .dataframe thead th {\n",
       "        text-align: right;\n",
       "    }\n",
       "</style>\n",
       "<table border=\"1\" class=\"dataframe\">\n",
       "  <thead>\n",
       "    <tr style=\"text-align: right;\">\n",
       "      <th></th>\n",
       "      <th>Hour</th>\n",
       "      <th>Proportion</th>\n",
       "    </tr>\n",
       "  </thead>\n",
       "  <tbody>\n",
       "    <tr>\n",
       "      <th>0</th>\n",
       "      <td>08</td>\n",
       "      <td>0.100971</td>\n",
       "    </tr>\n",
       "    <tr>\n",
       "      <th>1</th>\n",
       "      <td>21</td>\n",
       "      <td>0.078947</td>\n",
       "    </tr>\n",
       "    <tr>\n",
       "      <th>2</th>\n",
       "      <td>23</td>\n",
       "      <td>0.078014</td>\n",
       "    </tr>\n",
       "    <tr>\n",
       "      <th>3</th>\n",
       "      <td>22</td>\n",
       "      <td>0.066816</td>\n",
       "    </tr>\n",
       "    <tr>\n",
       "      <th>4</th>\n",
       "      <td>00</td>\n",
       "      <td>0.063736</td>\n",
       "    </tr>\n",
       "  </tbody>\n",
       "</table>\n",
       "</div>"
      ],
      "text/plain": [
       "  Hour  Proportion\n",
       "0   08    0.100971\n",
       "1   21    0.078947\n",
       "2   23    0.078014\n",
       "3   22    0.066816\n",
       "4   00    0.063736"
      ]
     },
     "execution_count": 145,
     "metadata": {},
     "output_type": "execute_result"
    }
   ],
   "source": [
    "top_5_cancellation_times = orders_df['hr'].value_counts(normalize=True)[:5].reset_index()\n",
    "\n",
    "pd.DataFrame(data=top_5_cancellation_times, index=top_5_cancellation_times.index).rename(columns={'proportion':'Proportion', 'hr':'Hour'})"
   ]
  },
  {
   "cell_type": "markdown",
   "metadata": {},
   "source": [
    "Orders are most frequently cancelled at the following times:\n",
    "- 8 am (~10%)\n",
    "- 9 pm-midnight (~28%)\n",
    "\n",
    "Orders will tend to be cancelled at hours of day when rides are most frequently requested, as this is when drivers are likely to be busiest. The times mentioned above may be popular for requested rides for the following reasons: \n",
    "- 8 am is when many people may catch rides to go to work\n",
    "- 9 pm-midnight may be a popular time for requesting rides for people who don't want to drive late at night\n",
    "\n",
    "Of course, there may be other reasons besides those listed above that may explain high cancelled order counts at those hours."
   ]
  },
  {
   "cell_type": "markdown",
   "metadata": {},
   "source": [
    "**Question 3**\n",
    "\n",
    "Plot the average time to cancellation with and without driver, by the hour. If there are any outliers in the data, it would be better to remove them. Can we draw any conclusions from this plot?"
   ]
  },
  {
   "cell_type": "markdown",
   "metadata": {},
   "source": [
    "Let's look at the distribution of cancellation times (how many seconds passed before cancellation)."
   ]
  },
  {
   "cell_type": "code",
   "execution_count": 146,
   "metadata": {},
   "outputs": [
    {
     "data": {
      "image/png": "[encoded data removed]",
      "text/plain": [
       "<Figure size 640x480 with 1 Axes>"
      ]
     },
     "metadata": {},
     "output_type": "display_data"
    }
   ],
   "source": [
    "sns.boxplot(data=orders_df, x=\"cancellations_time_in_seconds\", color=\"lightblue\")\n",
    "plt.title(\"Boxplot: Cancellation Times\")\n",
    "plt.xlabel(\"Seconds\")\n",
    "plt.show()"
   ]
  },
  {
   "cell_type": "code",
   "execution_count": 147,
   "metadata": {},
   "outputs": [
    {
     "data": {
      "text/plain": [
       "count    7307.000000\n",
       "mean      157.892021\n",
       "std       213.366963\n",
       "min         3.000000\n",
       "25%        45.000000\n",
       "50%        98.000000\n",
       "75%       187.500000\n",
       "max      4303.000000\n",
       "Name: cancellations_time_in_seconds, dtype: float64"
      ]
     },
     "execution_count": 147,
     "metadata": {},
     "output_type": "execute_result"
    }
   ],
   "source": [
    "orders_df['cancellations_time_in_seconds'].describe()"
   ]
  },
  {
   "cell_type": "code",
   "execution_count": 148,
   "metadata": {},
   "outputs": [
    {
     "data": {
      "text/html": [
       "<div>\n",
       "<style scoped>\n",
       "    .dataframe tbody tr th:only-of-type {\n",
       "        vertical-align: middle;\n",
       "    }\n",
       "\n",
       "    .dataframe tbody tr th {\n",
       "        vertical-align: top;\n",
       "    }\n",
       "\n",
       "    .dataframe thead th {\n",
       "        text-align: right;\n",
       "    }\n",
       "</style>\n",
       "<table border=\"1\" class=\"dataframe\">\n",
       "  <thead>\n",
       "    <tr style=\"text-align: right;\">\n",
       "      <th></th>\n",
       "      <th>Quantile</th>\n",
       "      <th>Cancellation Time</th>\n",
       "    </tr>\n",
       "  </thead>\n",
       "  <tbody>\n",
       "    <tr>\n",
       "      <th>0</th>\n",
       "      <td>0.900</td>\n",
       "      <td>339.00</td>\n",
       "    </tr>\n",
       "    <tr>\n",
       "      <th>1</th>\n",
       "      <td>0.950</td>\n",
       "      <td>544.40</td>\n",
       "    </tr>\n",
       "    <tr>\n",
       "      <th>2</th>\n",
       "      <td>0.990</td>\n",
       "      <td>996.94</td>\n",
       "    </tr>\n",
       "    <tr>\n",
       "      <th>3</th>\n",
       "      <td>0.995</td>\n",
       "      <td>1205.47</td>\n",
       "    </tr>\n",
       "  </tbody>\n",
       "</table>\n",
       "</div>"
      ],
      "text/plain": [
       "   Quantile  Cancellation Time\n",
       "0     0.900             339.00\n",
       "1     0.950             544.40\n",
       "2     0.990             996.94\n",
       "3     0.995            1205.47"
      ]
     },
     "execution_count": 148,
     "metadata": {},
     "output_type": "execute_result"
    }
   ],
   "source": [
    "# cancellation time quantiles\n",
    "cancellation_time_quantiles = orders_df['cancellations_time_in_seconds'].quantile([0.9, 0.95, 0.99,0.995]).reset_index()\n",
    "\n",
    "pd.DataFrame(data=cancellation_time_quantiles, index=cancellation_time_quantiles.index).rename(columns={'index':'Quantile', 'cancellations_time_in_seconds': 'Cancellation Time'})"
   ]
  },
  {
   "cell_type": "markdown",
   "metadata": {},
   "source": [
    "99th percentile of cancellation time is close to 1000 seconds. However, the boxplot shows there are some cancelled rides with cancellation times much larger than 1000 seconds, making the distribution appear more right skewed then it is.\n",
    "\n",
    "Let's remove orders w/ cancellation time above 2000 seconds."
   ]
  },
  {
   "cell_type": "code",
   "execution_count": 149,
   "metadata": {},
   "outputs": [
    {
     "data": {
      "image/png": "[encoded data removed]",
      "text/plain": [
       "<Figure size 640x480 with 1 Axes>"
      ]
     },
     "metadata": {},
     "output_type": "display_data"
    }
   ],
   "source": [
    "orders_df_no_outliers = orders_df[orders_df['cancellations_time_in_seconds']<=2000]\n",
    "\n",
    "sns.boxplot(data=orders_df_no_outliers, x=\"cancellations_time_in_seconds\", color=\"lightblue\")\n",
    "plt.title(\"Box Plot of Time to Cancellation (s)\")\n",
    "plt.xlabel(\"Value\")\n",
    "plt.show()"
   ]
  },
  {
   "cell_type": "markdown",
   "metadata": {},
   "source": [
    "Note that cancellations_time_in_seconds only records non-null cancellation times for orders cancelled by client. All orders cancelled by the system have no cancellation time recorded. \n",
    "\n",
    "Based on this fact, it may be safe to assume that orders cancelled by the system are cancelled instantly. This seems like a reasonable assumption, as the system may cancel an order instantly due to lack of immediate availability. However, clients may cancel orders hours after initially placing it for various reasons."
   ]
  },
  {
   "cell_type": "code",
   "execution_count": 150,
   "metadata": {},
   "outputs": [
    {
     "data": {
      "text/html": [
       "<div>\n",
       "<style scoped>\n",
       "    .dataframe tbody tr th:only-of-type {\n",
       "        vertical-align: middle;\n",
       "    }\n",
       "\n",
       "    .dataframe tbody tr th {\n",
       "        vertical-align: top;\n",
       "    }\n",
       "\n",
       "    .dataframe thead th {\n",
       "        text-align: right;\n",
       "    }\n",
       "</style>\n",
       "<table border=\"1\" class=\"dataframe\">\n",
       "  <thead>\n",
       "    <tr style=\"text-align: right;\">\n",
       "      <th></th>\n",
       "      <th>Order Status</th>\n",
       "      <th>Null Count: Cancellation Time</th>\n",
       "    </tr>\n",
       "  </thead>\n",
       "  <tbody>\n",
       "    <tr>\n",
       "      <th>0</th>\n",
       "      <td>Client Cancelled</td>\n",
       "      <td>0</td>\n",
       "    </tr>\n",
       "    <tr>\n",
       "      <th>1</th>\n",
       "      <td>System Cancelled</td>\n",
       "      <td>3409</td>\n",
       "    </tr>\n",
       "  </tbody>\n",
       "</table>\n",
       "</div>"
      ],
      "text/plain": [
       "       Order Status  Null Count: Cancellation Time\n",
       "0  Client Cancelled                              0\n",
       "1  System Cancelled                           3409"
      ]
     },
     "execution_count": 150,
     "metadata": {},
     "output_type": "execute_result"
    }
   ],
   "source": [
    "# cancellation time null count grouped by order status\n",
    "grouped_cancellation_times = orders_df.groupby('order_status')['cancellations_time_in_seconds'].apply(lambda x: x.isnull().sum()).reset_index()\n",
    "pd.DataFrame(data=grouped_cancellation_times, index=grouped_cancellation_times.index).rename(columns={'cancellations_time_in_seconds': 'Null Count: Cancellation Time', 'order_status': 'Order Status'})"
   ]
  },
  {
   "cell_type": "markdown",
   "metadata": {},
   "source": [
    "Let's examine average time to cancellation stratified by hour of day and driver assignment status. "
   ]
  },
  {
   "cell_type": "code",
   "execution_count": 151,
   "metadata": {},
   "outputs": [],
   "source": [
    "avg_to_cancellation = orders_df_no_outliers.groupby(by=['hr', 'is_driver_assigned'])['cancellations_time_in_seconds'].mean().reset_index()"
   ]
  },
  {
   "cell_type": "code",
   "execution_count": 152,
   "metadata": {},
   "outputs": [
    {
     "data": {
      "image/png": "[encoded data removed]",
      "text/plain": [
       "<Figure size 640x480 with 1 Axes>"
      ]
     },
     "metadata": {},
     "output_type": "display_data"
    }
   ],
   "source": [
    "ax = sns.barplot(data=avg_to_cancellation, x=\"hr\", y=\"cancellations_time_in_seconds\", hue=\"is_driver_assigned\", palette=\"Set2\")\n",
    "plt.title(\"Average Time to Cancellation by Hour & Driver Assignment Status\")\n",
    "plt.ylabel(\"Average Time to Cancellation (s)\")\n",
    "\n",
    "# # Annotate legend labels\n",
    "# handles, labels = ax.get_legend_handles_labels()\n",
    "# custom_labels = [\n",
    "#     \"0 (no driver assigned)\",\n",
    "#     \"1 (driver assigned)\",\n",
    "# ]\n",
    "ax.legend(title=\"Driver Assignment Status\")\n",
    "\n",
    "plt.show()"
   ]
  },
  {
   "cell_type": "markdown",
   "metadata": {},
   "source": [
    "Across all hours, the average time to cancellation is longer for orders where a driver was assigned compared to orders with no driver assigned. For a given hour, the difference in average cancellation time between driver assignment ranges from 150 seconds on the larger end (2 am) to < 50 seconds on the lower end (5 am). \n",
    "\n",
    "This trend in longer average cancellation times for rides with driver assignment aligns with our findings above: \n",
    "- Recall the following: \n",
    "    - Nearly all orders cancelled after driver assignment were cancelled by the client, whereas order cancelled prior to driver assignment were more likely to be cancelled by the system (57% system, 43% client). \n",
    "    - We may assume that orders cancelled by the system are rejected instantly. \n",
    "- Therefore, since nearly all orders cancelled after driver assignment were cancelled by clients, and clients typically take longer to cancel orders then the system, it should be expected that average time to cancellation is much higher for orders with driver assigned vs. without driver assignment, across all hours of the day."
   ]
  },
  {
   "cell_type": "markdown",
   "metadata": {},
   "source": [
    "**Question 4**\n",
    "\n",
    "Plot the distribution of average ETA by hours. How can this plot be explained?"
   ]
  },
  {
   "cell_type": "code",
   "execution_count": 153,
   "metadata": {},
   "outputs": [
    {
     "data": {
      "text/html": [
       "<div>\n",
       "<style scoped>\n",
       "    .dataframe tbody tr th:only-of-type {\n",
       "        vertical-align: middle;\n",
       "    }\n",
       "\n",
       "    .dataframe tbody tr th {\n",
       "        vertical-align: top;\n",
       "    }\n",
       "\n",
       "    .dataframe thead th {\n",
       "        text-align: right;\n",
       "    }\n",
       "</style>\n",
       "<table border=\"1\" class=\"dataframe\">\n",
       "  <thead>\n",
       "    <tr style=\"text-align: right;\">\n",
       "      <th></th>\n",
       "      <th>hr</th>\n",
       "      <th>m_order_eta</th>\n",
       "    </tr>\n",
       "  </thead>\n",
       "  <tbody>\n",
       "    <tr>\n",
       "      <th>8</th>\n",
       "      <td>08</td>\n",
       "      <td>636.910828</td>\n",
       "    </tr>\n",
       "    <tr>\n",
       "      <th>7</th>\n",
       "      <td>07</td>\n",
       "      <td>583.358974</td>\n",
       "    </tr>\n",
       "    <tr>\n",
       "      <th>17</th>\n",
       "      <td>17</td>\n",
       "      <td>519.742515</td>\n",
       "    </tr>\n",
       "    <tr>\n",
       "      <th>9</th>\n",
       "      <td>09</td>\n",
       "      <td>504.891026</td>\n",
       "    </tr>\n",
       "    <tr>\n",
       "      <th>15</th>\n",
       "      <td>15</td>\n",
       "      <td>454.790210</td>\n",
       "    </tr>\n",
       "    <tr>\n",
       "      <th>12</th>\n",
       "      <td>12</td>\n",
       "      <td>440.787879</td>\n",
       "    </tr>\n",
       "    <tr>\n",
       "      <th>16</th>\n",
       "      <td>16</td>\n",
       "      <td>440.568182</td>\n",
       "    </tr>\n",
       "    <tr>\n",
       "      <th>13</th>\n",
       "      <td>13</td>\n",
       "      <td>428.025000</td>\n",
       "    </tr>\n",
       "    <tr>\n",
       "      <th>6</th>\n",
       "      <td>06</td>\n",
       "      <td>427.148936</td>\n",
       "    </tr>\n",
       "    <tr>\n",
       "      <th>18</th>\n",
       "      <td>18</td>\n",
       "      <td>419.186567</td>\n",
       "    </tr>\n",
       "    <tr>\n",
       "      <th>5</th>\n",
       "      <td>05</td>\n",
       "      <td>411.120000</td>\n",
       "    </tr>\n",
       "    <tr>\n",
       "      <th>23</th>\n",
       "      <td>23</td>\n",
       "      <td>408.429487</td>\n",
       "    </tr>\n",
       "    <tr>\n",
       "      <th>2</th>\n",
       "      <td>02</td>\n",
       "      <td>391.012821</td>\n",
       "    </tr>\n",
       "    <tr>\n",
       "      <th>11</th>\n",
       "      <td>11</td>\n",
       "      <td>390.954955</td>\n",
       "    </tr>\n",
       "    <tr>\n",
       "      <th>3</th>\n",
       "      <td>03</td>\n",
       "      <td>388.093750</td>\n",
       "    </tr>\n",
       "    <tr>\n",
       "      <th>14</th>\n",
       "      <td>14</td>\n",
       "      <td>387.835052</td>\n",
       "    </tr>\n",
       "    <tr>\n",
       "      <th>22</th>\n",
       "      <td>22</td>\n",
       "      <td>372.744966</td>\n",
       "    </tr>\n",
       "    <tr>\n",
       "      <th>19</th>\n",
       "      <td>19</td>\n",
       "      <td>369.816667</td>\n",
       "    </tr>\n",
       "    <tr>\n",
       "      <th>0</th>\n",
       "      <td>00</td>\n",
       "      <td>357.959016</td>\n",
       "    </tr>\n",
       "    <tr>\n",
       "      <th>10</th>\n",
       "      <td>10</td>\n",
       "      <td>355.556962</td>\n",
       "    </tr>\n",
       "    <tr>\n",
       "      <th>21</th>\n",
       "      <td>21</td>\n",
       "      <td>333.852941</td>\n",
       "    </tr>\n",
       "    <tr>\n",
       "      <th>1</th>\n",
       "      <td>01</td>\n",
       "      <td>324.750000</td>\n",
       "    </tr>\n",
       "    <tr>\n",
       "      <th>20</th>\n",
       "      <td>20</td>\n",
       "      <td>300.096491</td>\n",
       "    </tr>\n",
       "    <tr>\n",
       "      <th>4</th>\n",
       "      <td>04</td>\n",
       "      <td>299.658537</td>\n",
       "    </tr>\n",
       "  </tbody>\n",
       "</table>\n",
       "</div>"
      ],
      "text/plain": [
       "    hr  m_order_eta\n",
       "8   08   636.910828\n",
       "7   07   583.358974\n",
       "17  17   519.742515\n",
       "9   09   504.891026\n",
       "15  15   454.790210\n",
       "12  12   440.787879\n",
       "16  16   440.568182\n",
       "13  13   428.025000\n",
       "6   06   427.148936\n",
       "18  18   419.186567\n",
       "5   05   411.120000\n",
       "23  23   408.429487\n",
       "2   02   391.012821\n",
       "11  11   390.954955\n",
       "3   03   388.093750\n",
       "14  14   387.835052\n",
       "22  22   372.744966\n",
       "19  19   369.816667\n",
       "0   00   357.959016\n",
       "10  10   355.556962\n",
       "21  21   333.852941\n",
       "1   01   324.750000\n",
       "20  20   300.096491\n",
       "4   04   299.658537"
      ]
     },
     "execution_count": 153,
     "metadata": {},
     "output_type": "execute_result"
    }
   ],
   "source": [
    "avg_eta_by_hr = orders_df.groupby(['hr'])['m_order_eta'].agg('mean').reset_index()\n",
    "\n",
    "avg_eta_by_hr.sort_values(by='m_order_eta', ascending=False)"
   ]
  },
  {
   "cell_type": "code",
   "execution_count": 154,
   "metadata": {},
   "outputs": [
    {
     "data": {
      "image/png": "[encoded data removed]",
      "text/plain": [
       "<Figure size 640x480 with 1 Axes>"
      ]
     },
     "metadata": {},
     "output_type": "display_data"
    }
   ],
   "source": [
    "sns.barplot(data=avg_eta_by_hr, x=\"hr\", y=\"m_order_eta\")\n",
    "plt.title(\"Average Time to Order Arrival by Hour\")\n",
    "plt.ylabel(\"Time to Order Arrival (s)\")\n",
    "plt.show()"
   ]
  },
  {
   "cell_type": "markdown",
   "metadata": {},
   "source": [
    "In general, we see the following trends in order ETA:\n",
    "- Average ETA is longest around 7-8 am (~600 seconds/10 minutes) and 5 pm (~550 seconds/9 minutes)\n",
    "- Average ETA is shortest around 4 am and 8 pm (~300 seconds/5 minutes). After each of those times, average ETA increases steadily.\n",
    "\n",
    "Most people travel to work around 7-8 am and leave around 5 pm, so rides are likely in high demand during these hours. Since drivers are likely busiest during these hours, the time to order arrival is likely to be longer as well. This trend is similar to that of which we saw with the number of cancelled orders by hour, which also peaked around 8 am."
   ]
  },
  {
   "cell_type": "markdown",
   "metadata": {},
   "source": [
    "**Question 5**\n",
    "\n",
    "Using the h3 and folium packages, calculate how many sizes 8 hexes contain 80% of all orders from the original data sets and visualise the hexes, colouring them by the number of fails on the map."
   ]
  },
  {
   "cell_type": "code",
   "execution_count": 155,
   "metadata": {},
   "outputs": [
    {
     "name": "stdout",
     "output_type": "stream",
     "text": [
      "4.1.2\n",
      "0.19.2\n"
     ]
    }
   ],
   "source": [
    "import h3\n",
    "import folium \n",
    "\n",
    "print(h3.__version__)\n",
    "print(folium.__version__)"
   ]
  },
  {
   "cell_type": "code",
   "execution_count": 156,
   "metadata": {},
   "outputs": [
    {
     "data": {
      "text/html": [
       "<div>\n",
       "<style scoped>\n",
       "    .dataframe tbody tr th:only-of-type {\n",
       "        vertical-align: middle;\n",
       "    }\n",
       "\n",
       "    .dataframe tbody tr th {\n",
       "        vertical-align: top;\n",
       "    }\n",
       "\n",
       "    .dataframe thead th {\n",
       "        text-align: right;\n",
       "    }\n",
       "</style>\n",
       "<table border=\"1\" class=\"dataframe\">\n",
       "  <thead>\n",
       "    <tr style=\"text-align: right;\">\n",
       "      <th></th>\n",
       "      <th>order_datetime</th>\n",
       "      <th>origin_longitude</th>\n",
       "      <th>origin_latitude</th>\n",
       "      <th>m_order_eta</th>\n",
       "      <th>order_gk</th>\n",
       "      <th>order_status_key</th>\n",
       "      <th>is_driver_assigned_key</th>\n",
       "      <th>cancellations_time_in_seconds</th>\n",
       "      <th>order_status</th>\n",
       "      <th>is_driver_assigned</th>\n",
       "      <th>hr</th>\n",
       "      <th>min</th>\n",
       "      <th>sec</th>\n",
       "    </tr>\n",
       "  </thead>\n",
       "  <tbody>\n",
       "    <tr>\n",
       "      <th>0</th>\n",
       "      <td>18:08:07</td>\n",
       "      <td>-0.978916</td>\n",
       "      <td>51.456173</td>\n",
       "      <td>60.0</td>\n",
       "      <td>3000583041974</td>\n",
       "      <td>4</td>\n",
       "      <td>1</td>\n",
       "      <td>198.0</td>\n",
       "      <td>Client Cancelled</td>\n",
       "      <td>Yes</td>\n",
       "      <td>18</td>\n",
       "      <td>08</td>\n",
       "      <td>07</td>\n",
       "    </tr>\n",
       "    <tr>\n",
       "      <th>1</th>\n",
       "      <td>20:57:32</td>\n",
       "      <td>-0.950385</td>\n",
       "      <td>51.456843</td>\n",
       "      <td>NaN</td>\n",
       "      <td>3000583116437</td>\n",
       "      <td>4</td>\n",
       "      <td>0</td>\n",
       "      <td>128.0</td>\n",
       "      <td>Client Cancelled</td>\n",
       "      <td>No</td>\n",
       "      <td>20</td>\n",
       "      <td>57</td>\n",
       "      <td>32</td>\n",
       "    </tr>\n",
       "    <tr>\n",
       "      <th>2</th>\n",
       "      <td>12:07:50</td>\n",
       "      <td>-0.969520</td>\n",
       "      <td>51.455544</td>\n",
       "      <td>477.0</td>\n",
       "      <td>3000582891479</td>\n",
       "      <td>4</td>\n",
       "      <td>1</td>\n",
       "      <td>46.0</td>\n",
       "      <td>Client Cancelled</td>\n",
       "      <td>Yes</td>\n",
       "      <td>12</td>\n",
       "      <td>07</td>\n",
       "      <td>50</td>\n",
       "    </tr>\n",
       "    <tr>\n",
       "      <th>3</th>\n",
       "      <td>13:50:20</td>\n",
       "      <td>-1.054671</td>\n",
       "      <td>51.460544</td>\n",
       "      <td>658.0</td>\n",
       "      <td>3000582941169</td>\n",
       "      <td>4</td>\n",
       "      <td>1</td>\n",
       "      <td>62.0</td>\n",
       "      <td>Client Cancelled</td>\n",
       "      <td>Yes</td>\n",
       "      <td>13</td>\n",
       "      <td>50</td>\n",
       "      <td>20</td>\n",
       "    </tr>\n",
       "    <tr>\n",
       "      <th>4</th>\n",
       "      <td>21:24:45</td>\n",
       "      <td>-0.967605</td>\n",
       "      <td>51.458236</td>\n",
       "      <td>NaN</td>\n",
       "      <td>3000583140877</td>\n",
       "      <td>9</td>\n",
       "      <td>0</td>\n",
       "      <td>NaN</td>\n",
       "      <td>System Cancelled</td>\n",
       "      <td>No</td>\n",
       "      <td>21</td>\n",
       "      <td>24</td>\n",
       "      <td>45</td>\n",
       "    </tr>\n",
       "  </tbody>\n",
       "</table>\n",
       "</div>"
      ],
      "text/plain": [
       "  order_datetime  origin_longitude  origin_latitude  m_order_eta  \\\n",
       "0       18:08:07         -0.978916        51.456173         60.0   \n",
       "1       20:57:32         -0.950385        51.456843          NaN   \n",
       "2       12:07:50         -0.969520        51.455544        477.0   \n",
       "3       13:50:20         -1.054671        51.460544        658.0   \n",
       "4       21:24:45         -0.967605        51.458236          NaN   \n",
       "\n",
       "        order_gk  order_status_key  is_driver_assigned_key  \\\n",
       "0  3000583041974                 4                       1   \n",
       "1  3000583116437                 4                       0   \n",
       "2  3000582891479                 4                       1   \n",
       "3  3000582941169                 4                       1   \n",
       "4  3000583140877                 9                       0   \n",
       "\n",
       "   cancellations_time_in_seconds      order_status is_driver_assigned  hr min  \\\n",
       "0                          198.0  Client Cancelled                Yes  18  08   \n",
       "1                          128.0  Client Cancelled                 No  20  57   \n",
       "2                           46.0  Client Cancelled                Yes  12  07   \n",
       "3                           62.0  Client Cancelled                Yes  13  50   \n",
       "4                            NaN  System Cancelled                 No  21  24   \n",
       "\n",
       "  sec  \n",
       "0  07  \n",
       "1  32  \n",
       "2  50  \n",
       "3  20  \n",
       "4  45  "
      ]
     },
     "execution_count": 156,
     "metadata": {},
     "output_type": "execute_result"
    }
   ],
   "source": [
    "orders_df.head()"
   ]
  },
  {
   "cell_type": "code",
   "execution_count": 157,
   "metadata": {},
   "outputs": [],
   "source": [
    "def visualize_hexagons(hexagons, color=\"red\", folium_map=None):\n",
    "    \"\"\"\n",
    "    hexagons is a list of hexcluster. Each hexcluster is a list of hexagons. \n",
    "    eg. [[hex1, hex2], [hex3, hex4]]\n",
    "    \"\"\"\n",
    "    polylines = []\n",
    "    lat = []\n",
    "    lng = []\n",
    "    for hex in hexagons:\n",
    "        polygons = h3.h3SetToMultiPolygon([hex], geo_json=False)\n",
    "        # flatten polygons into loops.\n",
    "        outlines = [loop for polygon in polygons for loop in polygon]\n",
    "        polyline = [outline + [outline[0]] for outline in outlines][0]\n",
    "        lat.extend(map(lambda v:v[0],polyline))\n",
    "        lng.extend(map(lambda v:v[1],polyline))\n",
    "        polylines.append(polyline)\n",
    "    \n",
    "    if folium_map is None:\n",
    "        m = folium.Map(location=[sum(lat)/len(lat), sum(lng)/len(lng)], zoom_start=13, tiles='cartodbpositron')\n",
    "    else:\n",
    "        m = folium_map\n",
    "    for polyline in polylines:\n",
    "        my_PolyLine=folium.PolyLine(locations=polyline,weight=8,color=color)\n",
    "        m.add_child(my_PolyLine)\n",
    "    return m\n",
    "    \n",
    "\n",
    "def visualize_polygon(polyline, color):\n",
    "    polyline.append(polyline[0])\n",
    "    lat = [p[0] for p in polyline]\n",
    "    lng = [p[1] for p in polyline]\n",
    "    m = folium.Map(location=[sum(lat)/len(lat), sum(lng)/len(lng)], zoom_start=13, tiles='cartodbpositron')\n",
    "    my_PolyLine=folium.PolyLine(locations=polyline,weight=8,color=color)\n",
    "    m.add_child(my_PolyLine)\n",
    "    return m"
   ]
  },
  {
   "cell_type": "code",
   "execution_count": 158,
   "metadata": {},
   "outputs": [
    {
     "name": "stdout",
     "output_type": "stream",
     "text": [
      "<LatLngPoly: [3]>\n"
     ]
    }
   ],
   "source": [
    "outer = [\n",
    "    (37.804, -122.412),\n",
    "    (37.778, -122.507),\n",
    "    (37.733, -122.501)\n",
    "]\n",
    "\n",
    "poly = h3.LatLngPoly(outer)\n",
    "print(poly)"
   ]
  },
  {
   "cell_type": "code",
   "execution_count": 159,
   "metadata": {},
   "outputs": [
    {
     "data": {
      "text/plain": [
       "{'type': 'Polygon',\n",
       " 'coordinates': (((-122.412, 37.804),\n",
       "   (-122.507, 37.778),\n",
       "   (-122.501, 37.733),\n",
       "   (-122.412, 37.804)),)}"
      ]
     },
     "execution_count": 159,
     "metadata": {},
     "output_type": "execute_result"
    }
   ],
   "source": [
    "d = poly.__geo_interface__\n",
    "d"
   ]
  },
  {
   "cell_type": "code",
   "execution_count": 160,
   "metadata": {},
   "outputs": [
    {
     "ename": "AttributeError",
     "evalue": "module 'h3' has no attribute 'h3SetToMultiPolygon'",
     "output_type": "error",
     "traceback": [
      "\u001b[1;31m---------------------------------------------------------------------------\u001b[0m",
      "\u001b[1;31mAttributeError\u001b[0m                            Traceback (most recent call last)",
      "Cell \u001b[1;32mIn[160], line 2\u001b[0m\n\u001b[0;32m      1\u001b[0m h3_address \u001b[38;5;241m=\u001b[39m h3\u001b[38;5;241m.\u001b[39mgeo_to_h3shape(d) \u001b[38;5;66;03m# lat, lng, hex resolution - {'type': 'Point', 'coordinates': (37.3615593, -122.0553238, 9)}\u001b[39;00m\n\u001b[1;32m----> 2\u001b[0m m \u001b[38;5;241m=\u001b[39m \u001b[43mvisualize_hexagons\u001b[49m\u001b[43m(\u001b[49m\u001b[43m[\u001b[49m\u001b[43mh3_address\u001b[49m\u001b[43m]\u001b[49m\u001b[43m)\u001b[49m\n\u001b[0;32m      3\u001b[0m display(m)\n",
      "Cell \u001b[1;32mIn[157], line 10\u001b[0m, in \u001b[0;36mvisualize_hexagons\u001b[1;34m(hexagons, color, folium_map)\u001b[0m\n\u001b[0;32m      8\u001b[0m lng \u001b[38;5;241m=\u001b[39m []\n\u001b[0;32m      9\u001b[0m \u001b[38;5;28;01mfor\u001b[39;00m \u001b[38;5;28mhex\u001b[39m \u001b[38;5;129;01min\u001b[39;00m hexagons:\n\u001b[1;32m---> 10\u001b[0m     polygons \u001b[38;5;241m=\u001b[39m \u001b[43mh3\u001b[49m\u001b[38;5;241;43m.\u001b[39;49m\u001b[43mh3SetToMultiPolygon\u001b[49m([\u001b[38;5;28mhex\u001b[39m], geo_json\u001b[38;5;241m=\u001b[39m\u001b[38;5;28;01mFalse\u001b[39;00m)\n\u001b[0;32m     11\u001b[0m     \u001b[38;5;66;03m# flatten polygons into loops.\u001b[39;00m\n\u001b[0;32m     12\u001b[0m     outlines \u001b[38;5;241m=\u001b[39m [loop \u001b[38;5;28;01mfor\u001b[39;00m polygon \u001b[38;5;129;01min\u001b[39;00m polygons \u001b[38;5;28;01mfor\u001b[39;00m loop \u001b[38;5;129;01min\u001b[39;00m polygon]\n",
      "\u001b[1;31mAttributeError\u001b[0m: module 'h3' has no attribute 'h3SetToMultiPolygon'"
     ]
    }
   ],
   "source": [
    "h3_address = h3.geo_to_h3shape(d) # lat, lng, hex resolution - {'type': 'Point', 'coordinates': (37.3615593, -122.0553238, 9)}\n",
    "m = visualize_hexagons([h3_address])\n",
    "display(m)"
   ]
  }
 ],
 "metadata": {
  "kernelspec": {
   "display_name": "venv",
   "language": "python",
   "name": "python3"
  },
  "language_info": {
   "codemirror_mode": {
    "name": "ipython",
    "version": 3
   },
   "file_extension": ".py",
   "mimetype": "text/x-python",
   "name": "python",
   "nbconvert_exporter": "python",
   "pygments_lexer": "ipython3",
   "version": "3.10.1"
  }
 },
 "nbformat": 4,
 "nbformat_minor": 2
}
